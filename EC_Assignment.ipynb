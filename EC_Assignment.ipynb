{
  "nbformat": 4,
  "nbformat_minor": 0,
  "metadata": {
    "colab": {
      "name": "EC Assignment.ipynb",
      "provenance": [],
      "collapsed_sections": [],
      "include_colab_link": true
    },
    "kernelspec": {
      "name": "python3",
      "display_name": "Python 3"
    }
  },
  "cells": [
    {
      "cell_type": "markdown",
      "metadata": {
        "id": "view-in-github",
        "colab_type": "text"
      },
      "source": [
        "<a href=\"https://colab.research.google.com/github/thivi/batting-lineup-generator/blob/master/EC_Assignment.ipynb\" target=\"_parent\"><img src=\"https://colab.research.google.com/assets/colab-badge.svg\" alt=\"Open In Colab\"/></a>"
      ]
    },
    {
      "cell_type": "code",
      "metadata": {
        "id": "QrrSifD7RvVn",
        "colab_type": "code",
        "colab": {
          "base_uri": "https://localhost:8080/",
          "height": 139
        },
        "outputId": "67a5a173-5766-4a41-ada5-d6c63c08f9ed"
      },
      "source": [
        "pip install deap"
      ],
      "execution_count": null,
      "outputs": [
        {
          "output_type": "stream",
          "text": [
            "Collecting deap\n",
            "\u001b[?25l  Downloading https://files.pythonhosted.org/packages/0a/eb/2bd0a32e3ce757fb26264765abbaedd6d4d3640d90219a513aeabd08ee2b/deap-1.3.1-cp36-cp36m-manylinux2010_x86_64.whl (157kB)\n",
            "\u001b[K     |████████████████████████████████| 163kB 2.8MB/s \n",
            "\u001b[?25hRequirement already satisfied: numpy in /usr/local/lib/python3.6/dist-packages (from deap) (1.18.5)\n",
            "Installing collected packages: deap\n",
            "Successfully installed deap-1.3.1\n"
          ],
          "name": "stdout"
        }
      ]
    },
    {
      "cell_type": "code",
      "metadata": {
        "id": "Fnl727OPSG6f",
        "colab_type": "code",
        "colab": {}
      },
      "source": [
        "playersData=[\n",
        "{\"name\":\"MDKJ Perera\",\"balls\":21.5625,\"runs\":1.38260869565217},\n",
        "{\"name\":\"BKG Mendis\",\"balls\":17.1111111111111,\"runs\":1.33116883116883},\n",
        "{\"name\":\"NLTC Perera\",\"balls\":19.0909090909091,\"runs\":1.64761904761905},\n",
        "{\"name\":\"MD Gunathilaka\",\"balls\":17,\"runs\":1.26470588235294},\n",
        "{\"name\":\"MD Shanaka\",\"balls\":16.3333333333333,\"runs\":1.16734693877551},\n",
        "{\"name\":\"I Udana\",\"balls\":16.875,\"runs\":1.5037037037037},\n",
        "{\"name\":\"WIA Fernando\",\"balls\":13.8571428571429,\"runs\":1.00515463917526},\n",
        "{\"name\":\"N Dickwella\",\"balls\":12.6363636363636,\"runs\":1.37410071942446},\n",
        "{\"name\":\"DM de Silva\",\"balls\":18.375,\"runs\":1.1156462585034},\n",
        "{\"name\":\"PBB Rajapaksa\",\"balls\":21.4,\"runs\":1.30841121495327},\n",
        "{\"name\":\"PWH de Silva\",\"balls\":14.8571428571429,\"runs\":1.18269230769231},\n",
        "{\"name\":\"BOP Fernando\",\"balls\":21.75,\"runs\":1.25287356321839},\n",
        "{\"name\":\"GSNFG Jayasuriya\",\"balls\":13.5,\"runs\":1.03703703703704},\n",
        "{\"name\":\"PHKD Mendis\",\"balls\":11.5,\"runs\":1.43478260869565},\n",
        "{\"name\":\"AD Mathews\",\"balls\":13.25,\"runs\":1.20754716981132},\n",
        "]"
      ],
      "execution_count": null,
      "outputs": []
    },
    {
      "cell_type": "code",
      "metadata": {
        "id": "T0SizDIeUfyK",
        "colab_type": "code",
        "colab": {
          "base_uri": "https://localhost:8080/",
          "height": 367
        },
        "outputId": "ad508d54-0a84-4935-c079-73b4dfd7253b"
      },
      "source": [
        "import random\n",
        "\n",
        "from deap import base\n",
        "from deap import creator\n",
        "from deap import tools\n",
        "from deap import algorithms"
      ],
      "execution_count": null,
      "outputs": [
        {
          "output_type": "error",
          "ename": "ModuleNotFoundError",
          "evalue": "ignored",
          "traceback": [
            "\u001b[0;31m---------------------------------------------------------------------------\u001b[0m",
            "\u001b[0;31mModuleNotFoundError\u001b[0m                       Traceback (most recent call last)",
            "\u001b[0;32m<ipython-input-3-e6e60e5b4e27>\u001b[0m in \u001b[0;36m<module>\u001b[0;34m()\u001b[0m\n\u001b[1;32m      1\u001b[0m \u001b[0;32mimport\u001b[0m \u001b[0mrandom\u001b[0m\u001b[0;34m\u001b[0m\u001b[0;34m\u001b[0m\u001b[0m\n\u001b[1;32m      2\u001b[0m \u001b[0;34m\u001b[0m\u001b[0m\n\u001b[0;32m----> 3\u001b[0;31m \u001b[0;32mfrom\u001b[0m \u001b[0mdeap\u001b[0m \u001b[0;32mimport\u001b[0m \u001b[0mbase\u001b[0m\u001b[0;34m\u001b[0m\u001b[0;34m\u001b[0m\u001b[0m\n\u001b[0m\u001b[1;32m      4\u001b[0m \u001b[0;32mfrom\u001b[0m \u001b[0mdeap\u001b[0m \u001b[0;32mimport\u001b[0m \u001b[0mcreator\u001b[0m\u001b[0;34m\u001b[0m\u001b[0;34m\u001b[0m\u001b[0m\n\u001b[1;32m      5\u001b[0m \u001b[0;32mfrom\u001b[0m \u001b[0mdeap\u001b[0m \u001b[0;32mimport\u001b[0m \u001b[0mtools\u001b[0m\u001b[0;34m\u001b[0m\u001b[0;34m\u001b[0m\u001b[0m\n",
            "\u001b[0;31mModuleNotFoundError\u001b[0m: No module named 'deap'",
            "",
            "\u001b[0;31m---------------------------------------------------------------------------\u001b[0;32m\nNOTE: If your import is failing due to a missing package, you can\nmanually install dependencies using either !pip or !apt.\n\nTo view examples of installing some common dependencies, click the\n\"Open Examples\" button below.\n\u001b[0;31m---------------------------------------------------------------------------\u001b[0m\n"
          ]
        }
      ]
    },
    {
      "cell_type": "code",
      "metadata": {
        "id": "FTD68OMUVEyj",
        "colab_type": "code",
        "colab": {
          "base_uri": "https://localhost:8080/",
          "height": 105
        },
        "outputId": "9d46c998-7d64-4596-951f-1ad04be5034d"
      },
      "source": [
        "creator.create(\"FitnessMax\", base.Fitness, weights=(1.0,))\n",
        "creator.create(\"Individual\", list, fitness=creator.FitnessMax)"
      ],
      "execution_count": null,
      "outputs": [
        {
          "output_type": "stream",
          "text": [
            "/usr/local/lib/python3.6/dist-packages/deap/creator.py:141: RuntimeWarning: A class named 'FitnessMax' has already been created and it will be overwritten. Consider deleting previous creation of that class or rename it.\n",
            "  RuntimeWarning)\n",
            "/usr/local/lib/python3.6/dist-packages/deap/creator.py:141: RuntimeWarning: A class named 'Individual' has already been created and it will be overwritten. Consider deleting previous creation of that class or rename it.\n",
            "  RuntimeWarning)\n"
          ],
          "name": "stderr"
        }
      ]
    },
    {
      "cell_type": "code",
      "metadata": {
        "id": "2qb47kHCWCCa",
        "colab_type": "code",
        "colab": {}
      },
      "source": [
        "toolbox = base.Toolbox()"
      ],
      "execution_count": null,
      "outputs": []
    },
    {
      "cell_type": "code",
      "metadata": {
        "id": "3lZ6PGuLZlRs",
        "colab_type": "code",
        "colab": {}
      },
      "source": [
        "toolbox.register(\"random_batsman\", random.randint, 0, 14)"
      ],
      "execution_count": null,
      "outputs": []
    },
    {
      "cell_type": "code",
      "metadata": {
        "id": "VQoSJuCqZwBr",
        "colab_type": "code",
        "colab": {}
      },
      "source": [
        "toolbox.register(\"indices\", random.sample, range(15), 15)\n",
        "toolbox.register(\"individual\", tools.initIterate, creator.Individual,\n",
        "                 toolbox.indices)"
      ],
      "execution_count": null,
      "outputs": []
    },
    {
      "cell_type": "code",
      "metadata": {
        "id": "QZYfZEYmcHAr",
        "colab_type": "code",
        "colab": {}
      },
      "source": [
        "toolbox.register(\"population\", tools.initRepeat, list, toolbox.individual)"
      ],
      "execution_count": null,
      "outputs": []
    },
    {
      "cell_type": "code",
      "metadata": {
        "id": "TCZKMDiJcMCC",
        "colab_type": "code",
        "colab": {}
      },
      "source": [
        "def evaluationMaxRuns(individual):\n",
        "  total_runs=0\n",
        "  total_balls=0\n",
        "  total_wickets=0\n",
        "\n",
        "  while(total_balls<120 and total_wickets<7):\n",
        "    batsman_strike_rate=playersData[individual[total_wickets]][\"runs\"]\n",
        "    batsman_balls_per_innings=round(playersData[individual[total_wickets]][\"balls\"],0)\n",
        "    \n",
        "    if (total_balls + batsman_balls_per_innings > 120):\n",
        "      batsman_balls_per_innings=120-total_balls\n",
        "\n",
        "    batsman_runs=round(batsman_balls_per_innings*(batsman_strike_rate),0)\n",
        "    total_balls+=batsman_balls_per_innings\n",
        "    total_runs+=batsman_runs\n",
        "    total_wickets+=1\n",
        "\n",
        "  return total_runs,"
      ],
      "execution_count": null,
      "outputs": []
    },
    {
      "cell_type": "code",
      "metadata": {
        "id": "Yc5EHpJweeUz",
        "colab_type": "code",
        "colab": {}
      },
      "source": [
        "toolbox.register(\"evaluate\", evaluationMaxRuns)\n",
        "toolbox.register(\"crossover\", tools.cxOrdered)\n",
        "toolbox.register(\"mutate\", tools.mutShuffleIndexes, indpb=0.05)\n",
        "toolbox.register(\"parent_selection\", tools.selTournament, tournsize=3)"
      ],
      "execution_count": null,
      "outputs": []
    },
    {
      "cell_type": "code",
      "metadata": {
        "id": "UnbKO-1ofYrk",
        "colab_type": "code",
        "colab": {}
      },
      "source": [
        "def main():\n",
        "  #Generate a population of 300 individuals\n",
        "  pop=toolbox.population(n=400)\n",
        "\n",
        "  #Calculate the fitness value of each individual in the population\n",
        "  fitnesses = list(map(toolbox.evaluate, pop))\n",
        "\n",
        "  #Assign the fitness value of every individual to the individual's object\n",
        "  for ind, fit in zip(pop, fitnesses):\n",
        "        ind.fitness.values = fit\n",
        "\n",
        "  #probability of crossover and mutation\n",
        "  CXPB, MUTPB = 0.8, 0.4\n",
        "\n",
        "  #get the fitness value of individuals into a list\n",
        "  fits = [ind.fitness.values[0] for ind in pop]\n",
        "\n",
        "  g=0\n",
        "  while (g<100):\n",
        "    offspring = toolbox.parent_selection(pop, len(pop))\n",
        "    offspring = list(map(toolbox.clone, offspring))\n",
        "\n",
        "    for child1, child2 in zip(offspring[::2], offspring[1::2]):\n",
        "      if random.random() < CXPB:\n",
        "          toolbox.crossover(child1, child2)\n",
        "          del child1.fitness.values\n",
        "          del child2.fitness.values\n",
        "\n",
        "    for mutant in offspring:\n",
        "        if random.random() < MUTPB:\n",
        "            toolbox.mutate(mutant)\n",
        "            del mutant.fitness.values\n",
        "\n",
        "    invalid_ind = [ind for ind in offspring if not ind.fitness.valid]\n",
        "    fitnesses = map(toolbox.evaluate, invalid_ind)\n",
        "    for ind, fit in zip(invalid_ind, fitnesses):\n",
        "        ind.fitness.values = fit\n",
        "    \n",
        "    pop[:] = offspring\n",
        "\n",
        "    fits = [ind.fitness.values[0] for ind in pop]\n",
        "        \n",
        "    length = len(pop)\n",
        "    mean = sum(fits) / length\n",
        "    sum2 = sum(x*x for x in fits)\n",
        "    std = abs(sum2 / length - mean**2)**0.5\n",
        "    \n",
        "    print(\"  Min %s\" % min(fits))\n",
        "    print(\"  Max %s\" % max(fits))\n",
        "    print(\"  Avg %s\" % mean)\n",
        "    print(\"  Std %s\" % std)\n",
        "\n",
        "    g+=1\n",
        "  \n",
        "  best_ind = tools.selBest(pop, 1)[0]\n",
        "  print(\"Best individual is %s, %s\" % (best_ind, best_ind.fitness.values))\n",
        "  print(\"The ideal batting lineup is:\")\n",
        "\n",
        "  order_no=1\n",
        "  for index in best_ind:\n",
        "    if order_no>7:\n",
        "      break\n",
        "    print(order_no, playersData[index][\"name\"])\n",
        "    order_no+=1"
      ],
      "execution_count": null,
      "outputs": []
    },
    {
      "cell_type": "code",
      "metadata": {
        "id": "TSxoQapPnAVc",
        "colab_type": "code",
        "colab": {
          "base_uri": "https://localhost:8080/",
          "height": 163
        },
        "outputId": "2c461a78-0571-4314-bc59-9c4fd186b5cd"
      },
      "source": [
        "main()"
      ],
      "execution_count": null,
      "outputs": [
        {
          "output_type": "error",
          "ename": "NameError",
          "evalue": "ignored",
          "traceback": [
            "\u001b[0;31m---------------------------------------------------------------------------\u001b[0m",
            "\u001b[0;31mNameError\u001b[0m                                 Traceback (most recent call last)",
            "\u001b[0;32m<ipython-input-1-263240bbee7e>\u001b[0m in \u001b[0;36m<module>\u001b[0;34m()\u001b[0m\n\u001b[0;32m----> 1\u001b[0;31m \u001b[0mmain\u001b[0m\u001b[0;34m(\u001b[0m\u001b[0;34m)\u001b[0m\u001b[0;34m\u001b[0m\u001b[0;34m\u001b[0m\u001b[0m\n\u001b[0m",
            "\u001b[0;31mNameError\u001b[0m: name 'main' is not defined"
          ]
        }
      ]
    },
    {
      "cell_type": "code",
      "metadata": {
        "id": "dM_TMnMP9BQ6",
        "colab_type": "code",
        "colab": {}
      },
      "source": [
        ""
      ],
      "execution_count": null,
      "outputs": []
    }
  ]
}